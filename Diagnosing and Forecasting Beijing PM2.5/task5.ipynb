{
 "cells": [
  {
   "cell_type": "code",
   "execution_count": 1,
   "metadata": {},
   "outputs": [],
   "source": [
    "import pandas as pd\n",
    "from myPackage import module #自己写的包\n",
    "import warnings\n",
    "warnings.filterwarnings(\"ignore\")"
   ]
  },
  {
   "cell_type": "markdown",
   "metadata": {},
   "source": [
    "1. 我们使用 task3 中用 KNN 填补得到的数据  \n",
    "首先将pm2.5数据分为三类：当 $pm2.5\\leq 35$，我们记为1类；当 $35 < pm2.5 \\leq 150$，我们记为2类；当 $pm2.5 > 150$，我们记为3类"
   ]
  },
  {
   "cell_type": "code",
   "execution_count": 2,
   "metadata": {},
   "outputs": [],
   "source": [
    "pm25_knn=pd.read_csv('pm25_data_knn.csv')\n",
    "# label pm2.5\n",
    "for i in range(len(pm25_knn)):\n",
    "    if pm25_knn.loc[i,'pm2.5'] <= 35:\n",
    "        pm25_knn.loc[i,'pm2.5'] = 1\n",
    "    elif pm25_knn.loc[i,'pm2.5'] > 150:\n",
    "        pm25_knn.loc[i,'pm2.5'] = 3\n",
    "    else:\n",
    "        pm25_knn.loc[i,'pm2.5'] = 2"
   ]
  },
  {
   "cell_type": "markdown",
   "metadata": {},
   "source": [
    "smooth the time series over 3-hour moving windows"
   ]
  },
  {
   "cell_type": "code",
   "execution_count": 3,
   "metadata": {},
   "outputs": [],
   "source": [
    "# smooth data\n",
    "pm25_knn_smoothed=pm25_knn\n",
    "for i in range(len(pm25_knn)-2):\n",
    "    pm25_knn_smoothed.loc[i+1,'DEWP']=(pm25_knn.loc[i,'DEWP']+pm25_knn.loc[i+1,'DEWP']+pm25_knn.loc[i+2,'DEWP'])/3\n",
    "    pm25_knn_smoothed.loc[i+1,'TEMP']=(pm25_knn.loc[i,'TEMP']+pm25_knn.loc[i+1,'TEMP']+pm25_knn.loc[i+2,'TEMP'])/3\n",
    "    pm25_knn_smoothed.loc[i+1,'PRES']=(pm25_knn.loc[i,'PRES']+pm25_knn.loc[i+1,'PRES']+pm25_knn.loc[i+2,'PRES'])/3\n",
    "    pm25_knn_smoothed.loc[i+1,'Iws']=(pm25_knn.loc[i,'Iws']+pm25_knn.loc[i+1,'Iws']+pm25_knn.loc[i+2,'Iws'])/3\n",
    "    pm25_knn_smoothed.loc[i+1,'Is']=(pm25_knn.loc[i,'Is']+pm25_knn.loc[i+1,'Is']+pm25_knn.loc[i+2,'Is'])/3\n",
    "    pm25_knn_smoothed.loc[i+1,'Ir']=(pm25_knn.loc[i,'Ir']+pm25_knn.loc[i+1,'Ir']+pm25_knn.loc[i+2,'Ir'])/3"
   ]
  },
  {
   "cell_type": "markdown",
   "metadata": {},
   "source": [
    "获得训练集和测试集"
   ]
  },
  {
   "cell_type": "code",
   "execution_count": 4,
   "metadata": {},
   "outputs": [],
   "source": [
    "test_data1, train_data1 = module.train_test_split(pm25_knn_smoothed)"
   ]
  },
  {
   "cell_type": "markdown",
   "metadata": {},
   "source": [
    "我们用 XGBClassifier 来建模。经过调参，最终使用 XGBClassifier(learning_rate=0.1, n_estimators=600, random_state=0)"
   ]
  },
  {
   "cell_type": "code",
   "execution_count": 5,
   "metadata": {},
   "outputs": [
    {
     "name": "stdout",
     "output_type": "stream",
     "text": [
      "[12:07:46] WARNING: D:\\bld\\xgboost-split_1645118015404\\work\\src\\learner.cc:1115: Starting in XGBoost 1.3.0, the default evaluation metric used with the objective 'multi:softprob' was changed from 'merror' to 'mlogloss'. Explicitly set eval_metric if you'd like to restore the old behavior.\n",
      "the classification precision: 0.7460\n"
     ]
    }
   ],
   "source": [
    "import xgboost as xgb\n",
    "\n",
    "var=['year','month','day','hour','DEWP','TEMP','PRES','Iws','Is','Ir','cbwd_NE','cbwd_NW','cbwd_SE','cbwd_cv']\n",
    "X_train1 = train_data1[var]\n",
    "X_test1 = test_data1[var]\n",
    "y_train1 = train_data1['pm2.5']\n",
    "y_test1 = test_data1['pm2.5']\n",
    "\n",
    "model1=xgb.XGBClassifier(learning_rate=0.1, n_estimators=600,max_depth=5)\n",
    "model1.fit(X_train1, y_train1)\n",
    "print(\"the classification precision: %.4f\" % model1.score(X_test1,y_test1))"
   ]
  },
  {
   "cell_type": "markdown",
   "metadata": {},
   "source": [
    "模型的分类准确率为74.6%"
   ]
  },
  {
   "cell_type": "markdown",
   "metadata": {},
   "source": [
    "2. 我们使用 task3 中用 mean 填补得到的数据  \n",
    "首先将pm2.5数据分为三类：当 $pm2.5\\leq 35$，我们记为1类；当 $35 < pm2.5 \\leq 150$，我们记为2类；当 $pm2.5 > 150$，我们记为3类"
   ]
  },
  {
   "cell_type": "code",
   "execution_count": 6,
   "metadata": {},
   "outputs": [],
   "source": [
    "pm25_mean=pd.read_csv('pm25_data_mean.csv')\n",
    "# label pm2.5\n",
    "for i in range(len(pm25_mean)):\n",
    "    if pm25_mean.loc[i,'pm2.5'] <= 35:\n",
    "        pm25_mean.loc[i,'pm2.5'] = 1\n",
    "    elif pm25_mean.loc[i,'pm2.5'] > 150:\n",
    "        pm25_mean.loc[i,'pm2.5'] = 3\n",
    "    else:\n",
    "        pm25_mean.loc[i,'pm2.5'] = 2"
   ]
  },
  {
   "cell_type": "markdown",
   "metadata": {},
   "source": [
    "smooth the time series over 3-hour moving windows"
   ]
  },
  {
   "cell_type": "code",
   "execution_count": 7,
   "metadata": {},
   "outputs": [],
   "source": [
    "# smooth data\n",
    "pm25_mean_smoothed=pm25_mean\n",
    "for i in range(len(pm25_mean)-2):\n",
    "    pm25_mean_smoothed.loc[i+1,'DEWP']=(pm25_mean.loc[i,'DEWP']+pm25_mean.loc[i+1,'DEWP']+pm25_mean.loc[i+2,'DEWP'])/3\n",
    "    pm25_mean_smoothed.loc[i+1,'TEMP']=(pm25_mean.loc[i,'TEMP']+pm25_mean.loc[i+1,'TEMP']+pm25_mean.loc[i+2,'TEMP'])/3\n",
    "    pm25_mean_smoothed.loc[i+1,'PRES']=(pm25_mean.loc[i,'PRES']+pm25_mean.loc[i+1,'PRES']+pm25_mean.loc[i+2,'PRES'])/3\n",
    "    pm25_mean_smoothed.loc[i+1,'Iws']=(pm25_mean.loc[i,'Iws']+pm25_mean.loc[i+1,'Iws']+pm25_mean.loc[i+2,'Iws'])/3\n",
    "    pm25_mean_smoothed.loc[i+1,'Is']=(pm25_mean.loc[i,'Is']+pm25_mean.loc[i+1,'Is']+pm25_mean.loc[i+2,'Is'])/3\n",
    "    pm25_mean_smoothed.loc[i+1,'Ir']=(pm25_mean.loc[i,'Ir']+pm25_mean.loc[i+1,'Ir']+pm25_mean.loc[i+2,'Ir'])/3"
   ]
  },
  {
   "cell_type": "markdown",
   "metadata": {},
   "source": [
    "获得训练集和测试集"
   ]
  },
  {
   "cell_type": "code",
   "execution_count": 8,
   "metadata": {},
   "outputs": [],
   "source": [
    "test_data2, train_data2 = module.train_test_split(pm25_mean_smoothed)"
   ]
  },
  {
   "cell_type": "markdown",
   "metadata": {},
   "source": [
    "我们用 XGBClassifier 来建模。经过调参，最终使用 XGBClassifier(learning_rate=0.1, n_estimators=600, random_state=0)"
   ]
  },
  {
   "cell_type": "code",
   "execution_count": 9,
   "metadata": {},
   "outputs": [
    {
     "name": "stdout",
     "output_type": "stream",
     "text": [
      "[12:10:09] WARNING: D:\\bld\\xgboost-split_1645118015404\\work\\src\\learner.cc:1115: Starting in XGBoost 1.3.0, the default evaluation metric used with the objective 'multi:softprob' was changed from 'merror' to 'mlogloss'. Explicitly set eval_metric if you'd like to restore the old behavior.\n",
      "the classification precision: 0.7455\n"
     ]
    }
   ],
   "source": [
    "import xgboost as xgb\n",
    "\n",
    "var=['year','month','day','hour','DEWP','TEMP','PRES','Iws','Is','Ir','cbwd_NE','cbwd_NW','cbwd_SE','cbwd_cv']\n",
    "X_train2 = train_data2[var]\n",
    "X_test2 = test_data2[var]\n",
    "y_train2 = train_data2['pm2.5']\n",
    "y_test2 = test_data2['pm2.5']\n",
    "\n",
    "model2=xgb.XGBClassifier(learning_rate=0.1, n_estimators=600,max_depth=5)\n",
    "model2.fit(X_train2, y_train2)\n",
    "print(\"the classification precision: %.4f\" % model2.score(X_test2,y_test2))"
   ]
  },
  {
   "cell_type": "markdown",
   "metadata": {},
   "source": [
    "模型的分类准确率为74.55%"
   ]
  }
 ],
 "metadata": {
  "interpreter": {
   "hash": "49cb93f377a7abe7414b7b0f21fb3017538004a126cf690fb524202736b7fb92"
  },
  "kernelspec": {
   "display_name": "Python 3.9.7 ('base')",
   "language": "python",
   "name": "python3"
  },
  "language_info": {
   "codemirror_mode": {
    "name": "ipython",
    "version": 3
   },
   "file_extension": ".py",
   "mimetype": "text/x-python",
   "name": "python",
   "nbconvert_exporter": "python",
   "pygments_lexer": "ipython3",
   "version": "3.9.7"
  },
  "orig_nbformat": 4
 },
 "nbformat": 4,
 "nbformat_minor": 2
}
